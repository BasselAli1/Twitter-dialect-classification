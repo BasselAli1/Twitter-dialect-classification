{
 "cells": [
  {
   "cell_type": "markdown",
   "id": "0ddfdbf6",
   "metadata": {},
   "source": [
    "#### Reading the data and some information   \n",
    "   1. [Reading the data](#one)\n",
    "   2. [check for null values](#check_fo_null_values)   \n",
    "   3. [what country has the most and least number of data points](#m)  \n",
    "   4. [Visualization](#Visualization)  \n",
    "   5. [making API call](#making_API_call)  \n",
    "   6. [saving data](#saving_data)\n",
    "   \n",
    "#### proccessing the data\n",
    "   1. [Reading the tweets (phase 1)](#phase1)\n",
    "   2. [Removing mentions](#mentions)\n",
    "   4. [remove links](#links)\n",
    "   5. [normalize some letters](#letters)\n",
    "   6. [remove hashtags](#hashtags)\n",
    "   7. [remove التشكيل and emoji, numbers and punctuations](#remove)\n",
    "   8. [remove rpeated letters](#repeated)\n",
    "   9. [lemmatization](#lemmatization)\n",
    "   10. [Function to processs the data](#processs)\n",
    "   11. [saving the data](#saving)   \n",
    "   "
   ]
  },
  {
   "cell_type": "code",
   "execution_count": 2,
   "id": "ef424dc7",
   "metadata": {},
   "outputs": [],
   "source": [
    "import itertools\n",
    "import pandas as pd\n",
    "import json\n",
    "import requests\n",
    "import re\n",
    "from farasa.stemmer import FarasaStemmer\n",
    "import pyarabic.araby as araby\n",
    "from pyarabic.araby import tokenize, is_arabicrange, strip_tashkeel\n",
    "import numpy as np\n",
    "import time"
   ]
  },
  {
   "cell_type": "markdown",
   "id": "23b4f17b",
   "metadata": {},
   "source": [
    "### Reading the data<a id='one'></a>"
   ]
  },
  {
   "cell_type": "code",
   "execution_count": 17,
   "id": "2971867d",
   "metadata": {
    "scrolled": true
   },
   "outputs": [
    {
     "name": "stdout",
     "output_type": "stream",
     "text": [
      "<class 'pandas.core.frame.DataFrame'>\n",
      "RangeIndex: 458197 entries, 0 to 458196\n",
      "Data columns (total 2 columns):\n",
      " #   Column   Non-Null Count   Dtype \n",
      "---  ------   --------------   ----- \n",
      " 0   id       458197 non-null  object\n",
      " 1   dialect  458197 non-null  object\n",
      "dtypes: object(2)\n",
      "memory usage: 7.0+ MB\n"
     ]
    }
   ],
   "source": [
    "URL = 'https://recruitment.aimtechnologies.co/ai-tasks'\n",
    "df = pd.read_csv('dialect_dataset.csv', dtype=str)\n",
    "df.info()"
   ]
  },
  {
   "cell_type": "markdown",
   "id": "cedc28bc",
   "metadata": {},
   "source": [
    "### check for null values<a id='check_fo_null_values'></a>"
   ]
  },
  {
   "cell_type": "code",
   "execution_count": 4,
   "id": "b700ba91",
   "metadata": {},
   "outputs": [
    {
     "data": {
      "text/plain": [
       "0"
      ]
     },
     "execution_count": 4,
     "metadata": {},
     "output_type": "execute_result"
    }
   ],
   "source": [
    "np.sum(df.isnull().any(axis=1))"
   ]
  },
  {
   "cell_type": "markdown",
   "id": "ff736ba3",
   "metadata": {},
   "source": [
    "### what country has the most and least number of data points<a id='m'></a>"
   ]
  },
  {
   "cell_type": "code",
   "execution_count": 5,
   "id": "cd7bb3bb",
   "metadata": {},
   "outputs": [
    {
     "name": "stdout",
     "output_type": "stream",
     "text": [
      "id    57636\n",
      "Name: EG, dtype: int64 Egypt\n",
      "id    9246\n",
      "Name: TN, dtype: int64 Tunisia\n"
     ]
    }
   ],
   "source": [
    "dialects = df.groupby('dialect').count()\n",
    "minimum = np.argmin(df.groupby('dialect').count())\n",
    "maximum = np.argmax(df.groupby('dialect').count())\n",
    "print(dialects.iloc[maximum], 'Egypt')\n",
    "print(dialects.iloc[minimum], 'Tunisia')"
   ]
  },
  {
   "cell_type": "markdown",
   "id": "5bf5c333",
   "metadata": {},
   "source": [
    "### Visualization<a id='Visualization'></a>"
   ]
  },
  {
   "cell_type": "code",
   "execution_count": 6,
   "id": "3f5b8d77",
   "metadata": {},
   "outputs": [
    {
     "data": {
      "text/plain": [
       "<AxesSubplot:title={'center':'Distribution of data'}, xlabel='dialect'>"
      ]
     },
     "execution_count": 6,
     "metadata": {},
     "output_type": "execute_result"
    },
    {
     "data": {
      "image/png": "[encoded data removed]",
      "text/plain": [
       "<Figure size 432x288 with 1 Axes>"
      ]
     },
     "metadata": {
      "needs_background": "light"
     },
     "output_type": "display_data"
    }
   ],
   "source": [
    "df.groupby('dialect').count().plot(kind='bar', title='Distribution of data',legend=False)"
   ]
  },
  {
   "cell_type": "markdown",
   "id": "f0200645",
   "metadata": {},
   "source": [
    "#### making API calls<a id='making_API_call'></a>"
   ]
  },
  {
   "cell_type": "code",
   "execution_count": 23,
   "id": "c8ca0b70",
   "metadata": {
    "scrolled": true
   },
   "outputs": [],
   "source": [
    "batches = df.shape[0]//1000\n",
    "size = 1000\n",
    "data_id = [] \n",
    "data_tweets = []\n",
    "for batch in range(batches+1):\n",
    "    #print(\"===========================\")\n",
    "    ids = np.array(df['id'][size*batch:size*batch+size]).tolist()\n",
    "    data_id.extend(ids)\n",
    "    try:\n",
    "        req = requests.post(URL, json= ids)\n",
    "    except:\n",
    "        time.sleep(60)\n",
    "        req = requests.post(URL, json= ids)\n",
    "    data_tweets.extend(req.json().values())\n",
    "\n",
    "ids = np.array(df['id'][size*(batch+1):]).tolist()\n",
    "data_id.extend(ids)\n",
    "req = requests.post(URL, json= ids)\n",
    "data_tweets.extend(req.json().values())\n",
    "dataset = pd.DataFrame({'dialect': df['dialect'], 'tweet': data_tweets})\n",
    "#, 'pure_tweet': data_tweets"
   ]
  },
  {
   "cell_type": "markdown",
   "id": "035ab521",
   "metadata": {},
   "source": [
    "#### saving the data<a id='saving_data'></a>"
   ]
  },
  {
   "cell_type": "code",
   "execution_count": 146,
   "id": "8194e00d",
   "metadata": {},
   "outputs": [],
   "source": [
    "dataset.to_csv('dataset_with_tweets.csv', index=False)"
   ]
  },
  {
   "cell_type": "markdown",
   "id": "f10c7c37",
   "metadata": {},
   "source": [
    "Number of samples"
   ]
  },
  {
   "cell_type": "code",
   "execution_count": 36,
   "id": "6509b348",
   "metadata": {},
   "outputs": [
    {
     "data": {
      "text/plain": [
       "458197"
      ]
     },
     "execution_count": 36,
     "metadata": {},
     "output_type": "execute_result"
    }
   ],
   "source": [
    "len(df)"
   ]
  },
  {
   "cell_type": "markdown",
   "id": "fa1b9b3a",
   "metadata": {},
   "source": [
    "#### Reading the tweets (phase 1)<a id='phase1'></a>"
   ]
  },
  {
   "cell_type": "code",
   "execution_count": 2,
   "id": "b9488988",
   "metadata": {},
   "outputs": [],
   "source": [
    "dataset = pd.read_csv('dataset_with_tweets.csv')"
   ]
  },
  {
   "cell_type": "markdown",
   "id": "50e2a475",
   "metadata": {},
   "source": [
    "### Removing mentions<a id='mentions'></a>"
   ]
  },
  {
   "cell_type": "code",
   "execution_count": 3,
   "id": "43fe896b",
   "metadata": {},
   "outputs": [],
   "source": [
    "def remove_mentions(text):\n",
    "    return re.sub(\"@[A-Za-z0-9_]+\",\"\", text)"
   ]
  },
  {
   "cell_type": "markdown",
   "id": "8fc95681",
   "metadata": {},
   "source": [
    "### Removing links<a id='links'></a>"
   ]
  },
  {
   "cell_type": "code",
   "execution_count": 4,
   "id": "10597291",
   "metadata": {},
   "outputs": [],
   "source": [
    "def remove_links(text):\n",
    "    return re.sub(r\"http\\S+\", \"\", text)"
   ]
  },
  {
   "cell_type": "markdown",
   "id": "9041709d",
   "metadata": {},
   "source": [
    "### Normalizing Arabic letters<a id='letters'></a>"
   ]
  },
  {
   "cell_type": "code",
   "execution_count": 5,
   "id": "fc8d55e0",
   "metadata": {},
   "outputs": [],
   "source": [
    "def normalizeArabic(text):\n",
    "    text = text.replace(\"أ\", \"ا\" )\n",
    "    text = text.replace(\"إ\", \"ا\")\n",
    "    text = text.replace(\"آ\", \"ا\" )\n",
    "    text = text.replace(\"ى\", \"ي\")\n",
    "    text = text.replace(\"ة\",\"ه\")\n",
    "    text = text.replace('اً', 'ا')\n",
    "    return(text)"
   ]
  },
  {
   "cell_type": "markdown",
   "id": "c96394fc",
   "metadata": {},
   "source": [
    "### Removing hashtags<a id='hashtags'></a>"
   ]
  },
  {
   "cell_type": "code",
   "execution_count": 82,
   "id": "87b70306",
   "metadata": {},
   "outputs": [],
   "source": [
    "def remove_hashtags(text):\n",
    "    #return \" \".join(filter(lambda text:text[0]!='#', text.split()))\n",
    "    st = '# _'\n",
    "    for i, letter in enumerate(text):\n",
    "        if letter in st:\n",
    "            text = text.replace(letter,\" \")\n",
    "    return text"
   ]
  },
  {
   "cell_type": "markdown",
   "id": "14ca381d",
   "metadata": {},
   "source": [
    "### Remove <a id='remove'></a> التشكيل and emoji, numbers and punctuations"
   ]
  },
  {
   "cell_type": "code",
   "execution_count": 83,
   "id": "22012f76",
   "metadata": {},
   "outputs": [],
   "source": [
    "def remove_el_tashkeel_and_other_non_letters(text):\n",
    "    text = tokenize(text, conditions=is_arabicrange, morphs=strip_tashkeel)\n",
    "    \n",
    "    return ' '.join(text)"
   ]
  },
  {
   "cell_type": "markdown",
   "id": "99d2dad0",
   "metadata": {},
   "source": [
    "### Remove repeated letters<a id='repeated'></a>"
   ]
  },
  {
   "cell_type": "code",
   "execution_count": 8,
   "id": "69c639aa",
   "metadata": {},
   "outputs": [],
   "source": [
    "def remove_repeated_letters(text):\n",
    "    # words like ههههههه will be ه\n",
    "    # جدااااا will be جدا\n",
    "    return ''.join(c for c, _ in itertools.groupby(text))"
   ]
  },
  {
   "cell_type": "markdown",
   "id": "d14e3457",
   "metadata": {},
   "source": [
    "### lemmatization<a id='lemmatization'></a>"
   ]
  },
  {
   "cell_type": "code",
   "execution_count": 48,
   "id": "971104ab",
   "metadata": {},
   "outputs": [
    {
     "name": "stderr",
     "output_type": "stream",
     "text": [
      "[2022-03-09 21:03:23,181 - farasapy_logger - WARNING]: Be careful with large lines as they may break on interactive mode. You may switch to Standalone mode for such cases.\n"
     ]
    }
   ],
   "source": [
    "stemmer_interactive = FarasaStemmer(interactive=True)\n",
    "def lemmatization(text):\n",
    "    stemmed_interactive = stemmer_interactive.stem(text)\n",
    "    return stemmed_interactive"
   ]
  },
  {
   "cell_type": "markdown",
   "id": "293516de",
   "metadata": {},
   "source": [
    "# Function to processs the data<a id='processs'></a>"
   ]
  },
  {
   "cell_type": "code",
   "execution_count": 88,
   "id": "56049d99",
   "metadata": {
    "scrolled": true
   },
   "outputs": [],
   "source": [
    "# proccess\n",
    "def preprocess(text):\n",
    "    text = remove_mentions(text)\n",
    "    text = remove_links(text)\n",
    "    text = normalizeArabic(text)\n",
    "    text = remove_hashtags(text)\n",
    "    text = remove_el_tashkeel_and_other_non_letters(text)\n",
    "    text = remove_repeated_letters(text)\n",
    "    text = lemmatization(text)\n",
    "    return text\n",
    "dataset['pure_tweet'] = dataset['tweet'].apply(lambda x: preprocess(x))"
   ]
  },
  {
   "cell_type": "markdown",
   "id": "115718eb",
   "metadata": {},
   "source": [
    "#### saving the data (phase 2)<a id='saving'></a>"
   ]
  },
  {
   "cell_type": "code",
   "execution_count": 93,
   "id": "3708f6f2",
   "metadata": {},
   "outputs": [],
   "source": [
    "dataset.to_csv('preprocessed_data.csv', index=False)"
   ]
  },
  {
   "cell_type": "code",
   "execution_count": 94,
   "id": "2c314327",
   "metadata": {},
   "outputs": [],
   "source": [
    "stemmer_interactive.terminate()"
   ]
  },
  {
   "cell_type": "code",
   "execution_count": null,
   "id": "5cf9e2e5",
   "metadata": {},
   "outputs": [],
   "source": []
  }
 ],
 "metadata": {
  "kernelspec": {
   "display_name": "Python 3 (ipykernel)",
   "language": "python",
   "name": "python3"
  },
  "language_info": {
   "codemirror_mode": {
    "name": "ipython",
    "version": 3
   },
   "file_extension": ".py",
   "mimetype": "text/x-python",
   "name": "python",
   "nbconvert_exporter": "python",
   "pygments_lexer": "ipython3",
   "version": "3.9.7"
  }
 },
 "nbformat": 4,
 "nbformat_minor": 5
}
